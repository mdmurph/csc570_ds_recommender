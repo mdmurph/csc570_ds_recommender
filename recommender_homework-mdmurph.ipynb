{
 "cells": [
  {
   "cell_type": "code",
   "execution_count": 21,
   "metadata": {
    "collapsed": false
   },
   "outputs": [],
   "source": [
    "import pandas as pd\n",
    "import numpy as np"
   ]
  },
  {
   "cell_type": "code",
   "execution_count": 22,
   "metadata": {
    "collapsed": false
   },
   "outputs": [],
   "source": [
    "#download the class movie reviews from here:\n",
    "#https://docs.google.com/spreadsheets/d/17rCJzmWxqvAu9rkpkgt4ToccIlY4A1Ffuu1W9X3B8Ag/\n",
    "#then read that in as a pandas dataframe"
   ]
  },
  {
   "cell_type": "code",
   "execution_count": 23,
   "metadata": {
    "collapsed": false
   },
   "outputs": [],
   "source": [
    "M = pd.read_csv('recommender_hw.csv', index_col='Name')"
   ]
  },
  {
   "cell_type": "code",
   "execution_count": 24,
   "metadata": {
    "collapsed": false
   },
   "outputs": [],
   "source": [
    "def pearson(s1, s2):\n",
    "    \"\"\"Take two pd.Series objects and return a pearson correlation.\"\"\"\n",
    "    s1_c = s1 - s1.mean()\n",
    "    s2_c = s2 - s2.mean()\n",
    "    return np.sum(s1_c * s2_c) / np.sqrt(np.sum(s1_c ** 2) * np.sum(s2_c ** 2))"
   ]
  },
  {
   "cell_type": "code",
   "execution_count": 25,
   "metadata": {
    "collapsed": false
   },
   "outputs": [],
   "source": [
    "def get_recs(movie_name, M, num):\n",
    "\n",
    "    import numpy as np\n",
    "    reviews = []\n",
    "    for title in M.columns:\n",
    "        if title == movie_name:\n",
    "            continue\n",
    "        cor = pearson(M[movie_name], M[title])\n",
    "        if np.isnan(cor):\n",
    "            continue\n",
    "        else:\n",
    "            reviews.append((title, cor))\n",
    "    \n",
    "    reviews.sort(key=lambda tup: tup[1], reverse=True)\n",
    "    return reviews[:num]\n",
    "\n",
    "    "
   ]
  },
  {
   "cell_type": "markdown",
   "metadata": {},
   "source": [
    "###Question 1:  What movie is most Similar to 'The fault in our stars' (60 pts)\n"
   ]
  },
  {
   "cell_type": "code",
   "execution_count": 26,
   "metadata": {
    "collapsed": false
   },
   "outputs": [],
   "source": [
    "recs = get_recs('The Fault in Our Stars', M, 10)"
   ]
  },
  {
   "cell_type": "code",
   "execution_count": 27,
   "metadata": {
    "collapsed": false
   },
   "outputs": [
    {
     "data": {
      "text/plain": [
       "[('Divergent', 0.24669725138059095)]"
      ]
     },
     "execution_count": 27,
     "metadata": {},
     "output_type": "execute_result"
    }
   ],
   "source": [
    "recs[:1]"
   ]
  },
  {
   "cell_type": "markdown",
   "metadata": {},
   "source": [
    "###Question 2:  Which movie(s) would you most like to see, based on your classmates experience? (40 pts)"
   ]
  },
  {
   "cell_type": "code",
   "execution_count": 28,
   "metadata": {
    "collapsed": false
   },
   "outputs": [
    {
     "name": "stderr",
     "output_type": "stream",
     "text": [
      "C:\\Users\\mdmurphy\\Anaconda3\\lib\\site-packages\\ipykernel\\__main__.py:6: FutureWarning: sort is deprecated, use sort_values(inplace=True) for INPLACE sorting\n"
     ]
    }
   ],
   "source": [
    "#HINTS...\n",
    "\n",
    "#the movies I've seen\n",
    "my_ratings = M.ix['Matthew Murphy'].dropna()\n",
    "#the movie I've rated the highest\n",
    "my_ratings.sort(ascending=False)\n",
    "#the name of the movie I've rated the highest\n",
    "fav_movie = my_ratings.index[0]"
   ]
  },
  {
   "cell_type": "code",
   "execution_count": 29,
   "metadata": {
    "collapsed": false
   },
   "outputs": [
    {
     "data": {
      "text/plain": [
       "'300: Rise of an Empire'"
      ]
     },
     "execution_count": 29,
     "metadata": {},
     "output_type": "execute_result"
    }
   ],
   "source": [
    "fav_movie #this is NOT my favorite movie!  I just rated it the highest to see what would happen."
   ]
  },
  {
   "cell_type": "code",
   "execution_count": 30,
   "metadata": {
    "collapsed": false
   },
   "outputs": [],
   "source": [
    "recs = get_recs(fav_movie, M, 10)"
   ]
  },
  {
   "cell_type": "code",
   "execution_count": 31,
   "metadata": {
    "collapsed": false
   },
   "outputs": [
    {
     "data": {
      "text/plain": [
       "[('Divergent', 0.30432817947590179),\n",
       " ('American Sniper', 0.16951917289349716),\n",
       " ('Malificent', 0.16290875853133735),\n",
       " ('Transformers', 0.14616275196847003),\n",
       " ('The Hobbit', 0.13919470123534436),\n",
       " ('The Hunger Games: Mockingjay - Part 1', 0.092183546739932218),\n",
       " ('How to Train your Dragon 2', 0.056292003186709891),\n",
       " ('Unbroken', 0.055197646864445428),\n",
       " ('Interstellar', 0.04808287327833994),\n",
       " ('Godzilla', 0.045200070488649713)]"
      ]
     },
     "execution_count": 31,
     "metadata": {},
     "output_type": "execute_result"
    }
   ],
   "source": [
    "recs[:10]"
   ]
  },
  {
   "cell_type": "markdown",
   "metadata": {},
   "source": [
    "###Question 3: Bonus Question...  For all the movies you haven't seen, can you predict how you'd rate them using your the class reviews? (10 pts)"
   ]
  },
  {
   "cell_type": "code",
   "execution_count": 32,
   "metadata": {
    "collapsed": false
   },
   "outputs": [
    {
     "data": {
      "text/plain": [
       "American Sniper                          False\n",
       "The Hunger Games: Mockingjay - Part 1     True\n",
       "Guardians of the Galaxy                  False\n",
       "The Lego Movie                            True\n",
       "The Hobbit                               False\n",
       "Transformers                              True\n",
       "Malificent                               False\n",
       "Big Hero 6                               False\n",
       "Godzilla                                 False\n",
       "Interstellar                             False\n",
       "How to Train your Dragon 2               False\n",
       "Gone Girl                                 True\n",
       "Divergent                                False\n",
       "The Fault in Our Stars                   False\n",
       "Unbroken                                 False\n",
       "300: Rise of an Empire                   False\n",
       "Name: Matthew Murphy, dtype: bool"
      ]
     },
     "execution_count": 32,
     "metadata": {},
     "output_type": "execute_result"
    }
   ],
   "source": [
    "my_notseen = M.ix['Matthew Murphy'].isnull()\n",
    "my_notseen "
   ]
  },
  {
   "cell_type": "markdown",
   "metadata": {},
   "source": [
    "So there are four movies on this list that I have not seen/ranked:\n",
    "The Hunger Games: Mockingjay - Part 1\n",
    "The Lego Movie\n",
    "Transformers\n",
    "Gone Girl\n",
    "\n",
    "One way to estimate how I might rank them would be to look at their average rank based on the class scores"
   ]
  },
  {
   "cell_type": "code",
   "execution_count": 33,
   "metadata": {
    "collapsed": false
   },
   "outputs": [
    {
     "name": "stderr",
     "output_type": "stream",
     "text": [
      "C:\\Users\\mdmurphy\\Anaconda3\\lib\\site-packages\\numpy\\lib\\function_base.py:3834: RuntimeWarning: Invalid value encountered in percentile\n",
      "  RuntimeWarning)\n"
     ]
    },
    {
     "data": {
      "text/html": [
       "<div>\n",
       "<table border=\"1\" class=\"dataframe\">\n",
       "  <thead>\n",
       "    <tr style=\"text-align: right;\">\n",
       "      <th></th>\n",
       "      <th>American Sniper</th>\n",
       "      <th>The Hunger Games: Mockingjay - Part 1</th>\n",
       "      <th>Guardians of the Galaxy</th>\n",
       "      <th>The Lego Movie</th>\n",
       "      <th>The Hobbit</th>\n",
       "      <th>Transformers</th>\n",
       "      <th>Malificent</th>\n",
       "      <th>Big Hero 6</th>\n",
       "      <th>Godzilla</th>\n",
       "      <th>Interstellar</th>\n",
       "      <th>How to Train your Dragon 2</th>\n",
       "      <th>Gone Girl</th>\n",
       "      <th>Divergent</th>\n",
       "      <th>The Fault in Our Stars</th>\n",
       "      <th>Unbroken</th>\n",
       "      <th>300: Rise of an Empire</th>\n",
       "    </tr>\n",
       "  </thead>\n",
       "  <tbody>\n",
       "    <tr>\n",
       "      <th>count</th>\n",
       "      <td>60.000000</td>\n",
       "      <td>68.000000</td>\n",
       "      <td>76.000000</td>\n",
       "      <td>56.000000</td>\n",
       "      <td>79.000000</td>\n",
       "      <td>81.000000</td>\n",
       "      <td>56.000000</td>\n",
       "      <td>44.000000</td>\n",
       "      <td>70.000000</td>\n",
       "      <td>67.000000</td>\n",
       "      <td>68.000000</td>\n",
       "      <td>55.000000</td>\n",
       "      <td>58.000000</td>\n",
       "      <td>38.000000</td>\n",
       "      <td>27.000000</td>\n",
       "      <td>71.000000</td>\n",
       "    </tr>\n",
       "    <tr>\n",
       "      <th>mean</th>\n",
       "      <td>4.108333</td>\n",
       "      <td>3.308824</td>\n",
       "      <td>3.901316</td>\n",
       "      <td>3.410714</td>\n",
       "      <td>4.074684</td>\n",
       "      <td>3.709877</td>\n",
       "      <td>3.401786</td>\n",
       "      <td>4.052273</td>\n",
       "      <td>3.520000</td>\n",
       "      <td>4.597015</td>\n",
       "      <td>3.779412</td>\n",
       "      <td>3.890909</td>\n",
       "      <td>3.294828</td>\n",
       "      <td>3.671053</td>\n",
       "      <td>3.648148</td>\n",
       "      <td>3.753521</td>\n",
       "    </tr>\n",
       "    <tr>\n",
       "      <th>std</th>\n",
       "      <td>0.707656</td>\n",
       "      <td>0.876856</td>\n",
       "      <td>0.800082</td>\n",
       "      <td>0.986763</td>\n",
       "      <td>0.847843</td>\n",
       "      <td>1.195994</td>\n",
       "      <td>0.901613</td>\n",
       "      <td>1.031704</td>\n",
       "      <td>0.935856</td>\n",
       "      <td>0.669910</td>\n",
       "      <td>0.963445</td>\n",
       "      <td>0.989252</td>\n",
       "      <td>0.832123</td>\n",
       "      <td>0.790794</td>\n",
       "      <td>0.998218</td>\n",
       "      <td>1.182833</td>\n",
       "    </tr>\n",
       "    <tr>\n",
       "      <th>min</th>\n",
       "      <td>3.000000</td>\n",
       "      <td>1.000000</td>\n",
       "      <td>2.000000</td>\n",
       "      <td>1.000000</td>\n",
       "      <td>1.000000</td>\n",
       "      <td>1.000000</td>\n",
       "      <td>0.000000</td>\n",
       "      <td>1.000000</td>\n",
       "      <td>1.000000</td>\n",
       "      <td>2.000000</td>\n",
       "      <td>1.000000</td>\n",
       "      <td>2.000000</td>\n",
       "      <td>1.000000</td>\n",
       "      <td>2.000000</td>\n",
       "      <td>2.000000</td>\n",
       "      <td>1.000000</td>\n",
       "    </tr>\n",
       "    <tr>\n",
       "      <th>25%</th>\n",
       "      <td>NaN</td>\n",
       "      <td>NaN</td>\n",
       "      <td>NaN</td>\n",
       "      <td>NaN</td>\n",
       "      <td>NaN</td>\n",
       "      <td>NaN</td>\n",
       "      <td>NaN</td>\n",
       "      <td>NaN</td>\n",
       "      <td>NaN</td>\n",
       "      <td>NaN</td>\n",
       "      <td>NaN</td>\n",
       "      <td>NaN</td>\n",
       "      <td>NaN</td>\n",
       "      <td>NaN</td>\n",
       "      <td>NaN</td>\n",
       "      <td>NaN</td>\n",
       "    </tr>\n",
       "    <tr>\n",
       "      <th>50%</th>\n",
       "      <td>NaN</td>\n",
       "      <td>NaN</td>\n",
       "      <td>NaN</td>\n",
       "      <td>NaN</td>\n",
       "      <td>NaN</td>\n",
       "      <td>NaN</td>\n",
       "      <td>NaN</td>\n",
       "      <td>NaN</td>\n",
       "      <td>NaN</td>\n",
       "      <td>NaN</td>\n",
       "      <td>NaN</td>\n",
       "      <td>NaN</td>\n",
       "      <td>NaN</td>\n",
       "      <td>NaN</td>\n",
       "      <td>NaN</td>\n",
       "      <td>NaN</td>\n",
       "    </tr>\n",
       "    <tr>\n",
       "      <th>75%</th>\n",
       "      <td>NaN</td>\n",
       "      <td>NaN</td>\n",
       "      <td>NaN</td>\n",
       "      <td>NaN</td>\n",
       "      <td>NaN</td>\n",
       "      <td>NaN</td>\n",
       "      <td>NaN</td>\n",
       "      <td>NaN</td>\n",
       "      <td>NaN</td>\n",
       "      <td>NaN</td>\n",
       "      <td>NaN</td>\n",
       "      <td>NaN</td>\n",
       "      <td>NaN</td>\n",
       "      <td>NaN</td>\n",
       "      <td>NaN</td>\n",
       "      <td>NaN</td>\n",
       "    </tr>\n",
       "    <tr>\n",
       "      <th>max</th>\n",
       "      <td>5.000000</td>\n",
       "      <td>5.000000</td>\n",
       "      <td>5.000000</td>\n",
       "      <td>5.000000</td>\n",
       "      <td>5.000000</td>\n",
       "      <td>5.000000</td>\n",
       "      <td>5.000000</td>\n",
       "      <td>5.000000</td>\n",
       "      <td>5.000000</td>\n",
       "      <td>5.000000</td>\n",
       "      <td>5.000000</td>\n",
       "      <td>5.000000</td>\n",
       "      <td>5.000000</td>\n",
       "      <td>5.000000</td>\n",
       "      <td>5.000000</td>\n",
       "      <td>5.000000</td>\n",
       "    </tr>\n",
       "  </tbody>\n",
       "</table>\n",
       "</div>"
      ],
      "text/plain": [
       "       American Sniper  The Hunger Games: Mockingjay - Part 1  \\\n",
       "count        60.000000                              68.000000   \n",
       "mean          4.108333                               3.308824   \n",
       "std           0.707656                               0.876856   \n",
       "min           3.000000                               1.000000   \n",
       "25%                NaN                                    NaN   \n",
       "50%                NaN                                    NaN   \n",
       "75%                NaN                                    NaN   \n",
       "max           5.000000                               5.000000   \n",
       "\n",
       "       Guardians of the Galaxy  The Lego Movie  The Hobbit  Transformers  \\\n",
       "count                76.000000       56.000000   79.000000     81.000000   \n",
       "mean                  3.901316        3.410714    4.074684      3.709877   \n",
       "std                   0.800082        0.986763    0.847843      1.195994   \n",
       "min                   2.000000        1.000000    1.000000      1.000000   \n",
       "25%                        NaN             NaN         NaN           NaN   \n",
       "50%                        NaN             NaN         NaN           NaN   \n",
       "75%                        NaN             NaN         NaN           NaN   \n",
       "max                   5.000000        5.000000    5.000000      5.000000   \n",
       "\n",
       "       Malificent  Big Hero 6   Godzilla  Interstellar  \\\n",
       "count   56.000000   44.000000  70.000000     67.000000   \n",
       "mean     3.401786    4.052273   3.520000      4.597015   \n",
       "std      0.901613    1.031704   0.935856      0.669910   \n",
       "min      0.000000    1.000000   1.000000      2.000000   \n",
       "25%           NaN         NaN        NaN           NaN   \n",
       "50%           NaN         NaN        NaN           NaN   \n",
       "75%           NaN         NaN        NaN           NaN   \n",
       "max      5.000000    5.000000   5.000000      5.000000   \n",
       "\n",
       "       How to Train your Dragon 2  Gone Girl  Divergent  \\\n",
       "count                   68.000000  55.000000  58.000000   \n",
       "mean                     3.779412   3.890909   3.294828   \n",
       "std                      0.963445   0.989252   0.832123   \n",
       "min                      1.000000   2.000000   1.000000   \n",
       "25%                           NaN        NaN        NaN   \n",
       "50%                           NaN        NaN        NaN   \n",
       "75%                           NaN        NaN        NaN   \n",
       "max                      5.000000   5.000000   5.000000   \n",
       "\n",
       "       The Fault in Our Stars   Unbroken  300: Rise of an Empire  \n",
       "count               38.000000  27.000000               71.000000  \n",
       "mean                 3.671053   3.648148                3.753521  \n",
       "std                  0.790794   0.998218                1.182833  \n",
       "min                  2.000000   2.000000                1.000000  \n",
       "25%                       NaN        NaN                     NaN  \n",
       "50%                       NaN        NaN                     NaN  \n",
       "75%                       NaN        NaN                     NaN  \n",
       "max                  5.000000   5.000000                5.000000  "
      ]
     },
     "execution_count": 33,
     "metadata": {},
     "output_type": "execute_result"
    }
   ],
   "source": [
    "M.describe()"
   ]
  },
  {
   "cell_type": "markdown",
   "metadata": {
    "collapsed": true
   },
   "source": [
    "Using this criteria I would probably rank them as follows:\n",
    "The Hunger Games: Mockingjay - Part 1   3.3\n",
    "The Lego Movie                          3.4   \n",
    "Transformers                            3.7\n",
    "Gone Girl                               3.9\n",
    "\n",
    "However, there is another way we could do this...\n",
    "Using those means and the Pearson's correlation that we calculated between each movie, we could try something else."
   ]
  },
  {
   "cell_type": "code",
   "execution_count": 34,
   "metadata": {
    "collapsed": false
   },
   "outputs": [
    {
     "data": {
      "text/plain": [
       "[('Transformers', 0.22561462480046823),\n",
       " ('Guardians of the Galaxy', 0.20083304707938357),\n",
       " ('The Hobbit', 0.16551803574567542),\n",
       " ('Big Hero 6', 0.13803898453583885),\n",
       " ('Divergent', 0.13422798419612697),\n",
       " ('Godzilla', 0.13279061883359344),\n",
       " ('300: Rise of an Empire', 0.092183546739932218),\n",
       " ('The Lego Movie', 0.058896368726757749),\n",
       " ('The Fault in Our Stars', 0.021633898968286248),\n",
       " ('Unbroken', 0.015982492851227676),\n",
       " ('How to Train your Dragon 2', 0.0029916717338231771),\n",
       " ('Interstellar', -0.013081137117507401),\n",
       " ('Malificent', -0.043435725004344977),\n",
       " ('American Sniper', -0.045666820103127594),\n",
       " ('Gone Girl', -0.15627175283554126)]"
      ]
     },
     "execution_count": 34,
     "metadata": {},
     "output_type": "execute_result"
    }
   ],
   "source": [
    "input1 = get_recs('The Hunger Games: Mockingjay - Part 1', M, 16)\n",
    "input1[:16]"
   ]
  },
  {
   "cell_type": "code",
   "execution_count": 35,
   "metadata": {
    "collapsed": false
   },
   "outputs": [
    {
     "data": {
      "text/plain": [
       "[('Guardians of the Galaxy', 0.4148888289449752),\n",
       " ('How to Train your Dragon 2', 0.28416912982830306),\n",
       " ('American Sniper', 0.18409489720496156),\n",
       " ('Gone Girl', 0.12306922665225231),\n",
       " ('Big Hero 6', 0.096789885317939472),\n",
       " ('Transformers', 0.07977504380098123),\n",
       " ('The Hobbit', 0.069478821129008161),\n",
       " ('The Hunger Games: Mockingjay - Part 1', 0.058896368726757749),\n",
       " ('Godzilla', 0.045370369922807276),\n",
       " ('Divergent', 0.019809685714162549),\n",
       " ('The Fault in Our Stars', 0.0036177542108592319),\n",
       " ('Malificent', -0.060791110207810105),\n",
       " ('300: Rise of an Empire', -0.089788970720812655),\n",
       " ('Unbroken', -0.13020381133586359),\n",
       " ('Interstellar', -0.13430139804912516)]"
      ]
     },
     "execution_count": 35,
     "metadata": {},
     "output_type": "execute_result"
    }
   ],
   "source": [
    "input2 = get_recs('The Lego Movie', M, 16)\n",
    "input2[:16]"
   ]
  },
  {
   "cell_type": "code",
   "execution_count": 36,
   "metadata": {
    "collapsed": false
   },
   "outputs": [
    {
     "data": {
      "text/plain": [
       "[('Godzilla', 0.26715854546051127),\n",
       " ('The Hobbit', 0.2602519176998469),\n",
       " ('Interstellar', 0.24361567313964724),\n",
       " ('Divergent', 0.22860828792107668),\n",
       " ('The Hunger Games: Mockingjay - Part 1', 0.22561462480046823),\n",
       " ('How to Train your Dragon 2', 0.16376497313002591),\n",
       " ('300: Rise of an Empire', 0.14616275196847003),\n",
       " ('Big Hero 6', 0.12942994449239847),\n",
       " ('Malificent', 0.1190412720313071),\n",
       " ('The Lego Movie', 0.07977504380098123),\n",
       " ('American Sniper', 0.061198870948944259),\n",
       " ('Unbroken', 0.028665875819454463),\n",
       " ('The Fault in Our Stars', 0.014071954391453411),\n",
       " ('Guardians of the Galaxy', -0.070109978414325827),\n",
       " ('Gone Girl', -0.11909780700628987)]"
      ]
     },
     "execution_count": 36,
     "metadata": {},
     "output_type": "execute_result"
    }
   ],
   "source": [
    "input3 = get_recs('Transformers', M, 16)\n",
    "input3[:16]"
   ]
  },
  {
   "cell_type": "code",
   "execution_count": 37,
   "metadata": {
    "collapsed": false
   },
   "outputs": [
    {
     "data": {
      "text/plain": [
       "[('How to Train your Dragon 2', 0.24453678158154002),\n",
       " ('American Sniper', 0.22149370257726358),\n",
       " ('The Fault in Our Stars', 0.16738232843337708),\n",
       " ('The Lego Movie', 0.12306922665225231),\n",
       " ('Godzilla', 0.09413359468634043),\n",
       " ('Unbroken', 0.092180105281667035),\n",
       " ('Divergent', 0.055635875167626449),\n",
       " ('Interstellar', 0.024955316178359725),\n",
       " ('300: Rise of an Empire', 0.0076095592490042349),\n",
       " ('Guardians of the Galaxy', -0.028387015289908037),\n",
       " ('Transformers', -0.11909780700628987),\n",
       " ('Big Hero 6', -0.13192792433259704),\n",
       " ('The Hunger Games: Mockingjay - Part 1', -0.15627175283554126),\n",
       " ('The Hobbit', -0.156324937672113),\n",
       " ('Malificent', -0.23660962167442584)]"
      ]
     },
     "execution_count": 37,
     "metadata": {},
     "output_type": "execute_result"
    }
   ],
   "source": [
    "input4 = get_recs('Gone Girl', M, 16)\n",
    "input4[:16]"
   ]
  },
  {
   "cell_type": "markdown",
   "metadata": {},
   "source": [
    "Now, using the correlations based on the class responses between the movies I have rated and those I have not, I performed the following calculation:\n",
    "\n",
    "Class_Average_Score[American Sniper] + { correlation(American Sniper, Gone Girl) * My_score_for[American Sniper] }\n",
    "\n",
    "So for all of the movies I have ranked I can take a correlation weighted average (the sum of each of the above scores for each movie that I have ranked divided by 12 (total number of movies I ranked), and get an estimated score for each, as follows:\n",
    "\n",
    "The Hunger Games: Mockingjay - Part 1 3.92 \n",
    "The Lego Movie 3.565\n",
    "Transformers 3.567\n",
    "Gone Girl 4.15\n",
    "\n",
    "(THe calculations are in an excel sheet on github).\n",
    "These seem like pretty good estimates to me.\n"
   ]
  }
 ],
 "metadata": {
  "anaconda-cloud": {},
  "kernelspec": {
   "display_name": "Python [Root]",
   "language": "python",
   "name": "Python [Root]"
  },
  "language_info": {
   "codemirror_mode": {
    "name": "ipython",
    "version": 3
   },
   "file_extension": ".py",
   "mimetype": "text/x-python",
   "name": "python",
   "nbconvert_exporter": "python",
   "pygments_lexer": "ipython3",
   "version": "3.5.2"
  }
 },
 "nbformat": 4,
 "nbformat_minor": 0
}
